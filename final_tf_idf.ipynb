{
 "cells": [
  {
   "cell_type": "code",
   "execution_count": 1,
   "metadata": {},
   "outputs": [],
   "source": [
    "\n",
    "import numpy as np\n",
    "import pandas as pd\n",
    "from tqdm import tqdm\n",
    "from sklearn.linear_model import LogisticRegression\n",
    "from sklearn.ensemble import RandomForestClassifier\n",
    "from sklearn.svm import LinearSVC\n",
    "from sklearn.cluster import KMeans\n",
    "from sklearn.metrics import accuracy_score, f1_score\n",
    "from sklearn.model_selection import train_test_split\n",
    "from sklearn.preprocessing import LabelEncoder\n",
    "from sklearn.feature_extraction.text import TfidfVectorizer\n",
    "from sklearn.feature_extraction.text import TfidfTransformer\n",
    "from sklearn.naive_bayes import MultinomialNB\n",
    "from sklearn.model_selection import cross_val_score\n",
    "from sklearn import metrics\n",
    "import re\n",
    "import pandas as pd\n",
    "import numpy as np\n",
    "from sklearn.feature_extraction.text import ENGLISH_STOP_WORDS\n",
    "from sklearn.model_selection import train_test_split, cross_val_score\n",
    "from sklearn.feature_extraction.text import TfidfVectorizer\n",
    "from sklearn.pipeline import Pipeline, FeatureUnion\n",
    "from sklearn.preprocessing import StandardScaler\n",
    "from sklearn.base import BaseEstimator, TransformerMixin\n",
    "from sklearn.svm import LinearSVC, SVC\n",
    "from sklearn.linear_model import LogisticRegression\n",
    "from sklearn.ensemble import RandomForestClassifier, VotingClassifier\n",
    "from sklearn.feature_selection import SelectKBest, chi2, f_classif\n",
    "from sklearn.metrics import classification_report\n",
    "\n",
    "\n",
    "import matplotlib.pyplot as plt\n",
    "import seaborn as sns\n",
    "import re\n",
    "\n",
    "from sklearn.metrics import confusion_matrix, classification_report\n",
    "\n"
   ]
  },
  {
   "cell_type": "code",
   "execution_count": 2,
   "metadata": {},
   "outputs": [
    {
     "name": "stdout",
     "output_type": "stream",
     "text": [
      "Collecting en-core-web-sm==3.8.0\n",
      "  Downloading https://github.com/explosion/spacy-models/releases/download/en_core_web_sm-3.8.0/en_core_web_sm-3.8.0-py3-none-any.whl (12.8 MB)\n",
      "\u001b[2K     \u001b[90m━━━━━━━━━━━━━━━━━━━━━━━━━━━━━━━━━━━━━━━━\u001b[0m \u001b[32m12.8/12.8 MB\u001b[0m \u001b[31m45.6 MB/s\u001b[0m eta \u001b[36m0:00:00\u001b[0m \u001b[36m0:00:01\u001b[0m\n",
      "\u001b[?25h\u001b[38;5;2m✔ Download and installation successful\u001b[0m\n",
      "You can now load the package via spacy.load('en_core_web_sm')\n"
     ]
    }
   ],
   "source": [
    "!python3 -m spacy download en_core_web_sm"
   ]
  },
  {
   "cell_type": "code",
   "execution_count": 4,
   "metadata": {},
   "outputs": [],
   "source": [
    "import re\n",
    "import pandas as pd\n",
    "from nltk.corpus import stopwords\n",
    "\n",
    "# 1. Download once:\n",
    "# import nltk\n",
    "# nltk.download('stopwords')\n",
    "\n",
    "EN_STOP = set(stopwords.words('english'))\n",
    "FILLER = {\n",
    "    \"yeah\",\"yea\",\"uh\",\"mhm\",\"hmm\",\"yo\",\"woo\",\"ooh\",\"la\",\"na\",\"ah\",\"aye\",\n",
    "    \"mr\",\"mrs\",\"ms\",\"dr\"\n",
    "}\n",
    "\n",
    "def clean_text(text, min_len=3):\n",
    "    t = str(text)\n",
    "\n",
    "    # 2. Drop URLs, digits, and titles\n",
    "    t = re.sub(r'https?://\\S+|www\\.\\S+', ' ', t)\n",
    "    t = re.sub(r'\\w*\\d\\w*', ' ', t)\n",
    "    t = re.sub(r'\\b(Mr|Mrs|Ms|Dr)\\.?\\b', ' ', t, flags=re.IGNORECASE)\n",
    "\n",
    "    # 3. Lowercase & keep only letters and spaces\n",
    "    t = t.lower()\n",
    "    t = re.sub(r'[^a-z\\s]', ' ', t)\n",
    "\n",
    "    # 4. Tokenize and filter\n",
    "    tokens = t.split()\n",
    "    tokens = [\n",
    "        w for w in tokens\n",
    "        if len(w) >= min_len\n",
    "        and w not in EN_STOP\n",
    "        and w not in FILLER\n",
    "    ]\n",
    "\n",
    "    return \" \".join(tokens)\n",
    "\n",
    "def build_clean_df(artist, min_len=3):\n",
    "    df = pd.read_csv(f\"{artist}.csv\")\n",
    "    cleaned = df['lyrics'].astype(str).apply(lambda s: clean_text(s, min_len))\n",
    "    cleaned = cleaned[cleaned.str.split().str.len() >= 1]  # drop empty ones\n",
    "    out = pd.DataFrame({\n",
    "        'clean_lyric': cleaned,\n",
    "        'artist': artist\n",
    "    }).drop_duplicates('clean_lyric').reset_index(drop=True)\n",
    "    return out\n",
    "\n",
    "# Example usage for multiple artists:\n",
    "artists = [\"TaylorSwift\",\"Beyonce\",\"Rihanna\",\"ArianaGrande\"]\n",
    "dfs = [build_clean_df(a) for a in artists]\n",
    "all_df = pd.concat(dfs, ignore_index=True)\n"
   ]
  },
  {
   "cell_type": "code",
   "execution_count": 5,
   "metadata": {},
   "outputs": [
    {
     "data": {
      "text/html": [
       "<div>\n",
       "<style scoped>\n",
       "    .dataframe tbody tr th:only-of-type {\n",
       "        vertical-align: middle;\n",
       "    }\n",
       "\n",
       "    .dataframe tbody tr th {\n",
       "        vertical-align: top;\n",
       "    }\n",
       "\n",
       "    .dataframe thead th {\n",
       "        text-align: right;\n",
       "    }\n",
       "</style>\n",
       "<table border=\"1\" class=\"dataframe\">\n",
       "  <thead>\n",
       "    <tr style=\"text-align: right;\">\n",
       "      <th></th>\n",
       "      <th>clean_lyric</th>\n",
       "      <th>artist</th>\n",
       "    </tr>\n",
       "  </thead>\n",
       "  <tbody>\n",
       "    <tr>\n",
       "      <th>23</th>\n",
       "      <td>said simple way second day strange know stumbl...</td>\n",
       "      <td>TaylorSwift</td>\n",
       "    </tr>\n",
       "    <tr>\n",
       "      <th>298</th>\n",
       "      <td>breakin settin real way makin girls dem chill ...</td>\n",
       "      <td>Rihanna</td>\n",
       "    </tr>\n",
       "    <tr>\n",
       "      <th>320</th>\n",
       "      <td>type get heart broken type get upset cry cause...</td>\n",
       "      <td>Rihanna</td>\n",
       "    </tr>\n",
       "    <tr>\n",
       "      <th>396</th>\n",
       "      <td>woah say midnight shadows finding love battle ...</td>\n",
       "      <td>ArianaGrande</td>\n",
       "    </tr>\n",
       "    <tr>\n",
       "      <th>386</th>\n",
       "      <td>whiskey got feelin pretty pardon impolite real...</td>\n",
       "      <td>Rihanna</td>\n",
       "    </tr>\n",
       "  </tbody>\n",
       "</table>\n",
       "</div>"
      ],
      "text/plain": [
       "                                           clean_lyric        artist\n",
       "23   said simple way second day strange know stumbl...   TaylorSwift\n",
       "298  breakin settin real way makin girls dem chill ...       Rihanna\n",
       "320  type get heart broken type get upset cry cause...       Rihanna\n",
       "396  woah say midnight shadows finding love battle ...  ArianaGrande\n",
       "386  whiskey got feelin pretty pardon impolite real...       Rihanna"
      ]
     },
     "execution_count": 5,
     "metadata": {},
     "output_type": "execute_result"
    }
   ],
   "source": [
    "\n",
    "all_df.sample(5)"
   ]
  },
  {
   "cell_type": "code",
   "execution_count": 13,
   "metadata": {},
   "outputs": [
    {
     "data": {
      "text/plain": [
       "artist\n",
       "TaylorSwift     182\n",
       "Rihanna         112\n",
       "ArianaGrande    100\n",
       "Beyonce          97\n",
       "Name: count, dtype: int64"
      ]
     },
     "execution_count": 13,
     "metadata": {},
     "output_type": "execute_result"
    }
   ],
   "source": [
    "from sklearn.model_selection import train_test_split\n",
    "from sklearn.utils import resample\n",
    "\n",
    "all_df[\"artist\"].value_counts()\n",
    "\n",
    "\n",
    "\n"
   ]
  },
  {
   "cell_type": "code",
   "execution_count": 14,
   "metadata": {},
   "outputs": [
    {
     "data": {
      "text/html": [
       "<div>\n",
       "<style scoped>\n",
       "    .dataframe tbody tr th:only-of-type {\n",
       "        vertical-align: middle;\n",
       "    }\n",
       "\n",
       "    .dataframe tbody tr th {\n",
       "        vertical-align: top;\n",
       "    }\n",
       "\n",
       "    .dataframe thead th {\n",
       "        text-align: right;\n",
       "    }\n",
       "</style>\n",
       "<table border=\"1\" class=\"dataframe\">\n",
       "  <thead>\n",
       "    <tr style=\"text-align: right;\">\n",
       "      <th></th>\n",
       "      <th>clean_lyric</th>\n",
       "      <th>artist</th>\n",
       "      <th>artist_id</th>\n",
       "    </tr>\n",
       "  </thead>\n",
       "  <tbody>\n",
       "    <tr>\n",
       "      <th>0</th>\n",
       "      <td>knew killer first time saw wondered many girls...</td>\n",
       "      <td>TaylorSwift</td>\n",
       "      <td>NaN</td>\n",
       "    </tr>\n",
       "    <tr>\n",
       "      <th>1</th>\n",
       "      <td>feels like perfect night dress like hipsters m...</td>\n",
       "      <td>TaylorSwift</td>\n",
       "      <td>NaN</td>\n",
       "    </tr>\n",
       "    <tr>\n",
       "      <th>2</th>\n",
       "      <td>would wanna break perfectly good heart would w...</td>\n",
       "      <td>TaylorSwift</td>\n",
       "      <td>NaN</td>\n",
       "    </tr>\n",
       "    <tr>\n",
       "      <th>3</th>\n",
       "      <td>know want ask cause still trying figure know r...</td>\n",
       "      <td>TaylorSwift</td>\n",
       "      <td>NaN</td>\n",
       "    </tr>\n",
       "    <tr>\n",
       "      <th>4</th>\n",
       "      <td>blew things proportion blue put jail something...</td>\n",
       "      <td>TaylorSwift</td>\n",
       "      <td>NaN</td>\n",
       "    </tr>\n",
       "  </tbody>\n",
       "</table>\n",
       "</div>"
      ],
      "text/plain": [
       "                                         clean_lyric       artist  artist_id\n",
       "0  knew killer first time saw wondered many girls...  TaylorSwift        NaN\n",
       "1  feels like perfect night dress like hipsters m...  TaylorSwift        NaN\n",
       "2  would wanna break perfectly good heart would w...  TaylorSwift        NaN\n",
       "3  know want ask cause still trying figure know r...  TaylorSwift        NaN\n",
       "4  blew things proportion blue put jail something...  TaylorSwift        NaN"
      ]
     },
     "execution_count": 14,
     "metadata": {},
     "output_type": "execute_result"
    }
   ],
   "source": [
    "for artist in all_df['artist'].unique():\n",
    "    sub = all_df[all_df['artist']==artist]\n",
    "    dfs.append(resample(sub, replace=True, n_samples=97, random_state=0))\n",
    "balanced_df = pd.concat(dfs)\n",
    "balanced_df.head()\n"
   ]
  },
  {
   "cell_type": "code",
   "execution_count": 78,
   "metadata": {},
   "outputs": [
    {
     "name": "stdout",
     "output_type": "stream",
     "text": [
      "Each of the 1655 complaints is represented by 10000 features (TF-IDF score of unigrams and bigrams)\n",
      "\n",
      "=== Top 3 for ArianaGrande ===\n",
      "Unigrams: possessin, shit, ayy\n",
      "Bigrams:  like supernatural, santa tell, care anymore\n",
      "\n",
      "=== Top 3 for Beyonce ===\n",
      "Unigrams: satellites, forward, beyonc\n",
      "Bigrams:  let let, turn lights, forward forward\n",
      "\n",
      "=== Top 3 for Rihanna ===\n",
      "Unigrams: rihanna, pon, gyal\n",
      "Bigrams:  come turn, wait wait, way lie\n",
      "\n",
      "=== Top 3 for TaylorSwift ===\n",
      "Unigrams: dancing, darling, honey\n",
      "Bigrams:  coming undone, back together, new york\n"
     ]
    }
   ],
   "source": [
    "from sklearn.pipeline import make_pipeline\n",
    "tfidf = TfidfVectorizer(\n",
    "    sublinear_tf=True,\n",
    "    min_df=2,\n",
    "    max_df=0.95,\n",
    "    max_features=10000,\n",
    "    ngram_range=(1, 2)\n",
    ")\n",
    "le = LabelEncoder()\n",
    "balanced_df['encoded_label'] = le.fit_transform(balanced_df['artist'])\n",
    "class_names = le.classes_\n",
    "features = tfidf.fit_transform(balanced_df.clean_lyric).toarray()\n",
    "feature_names = np.array(tfidf.get_feature_names_out())\n",
    "print(\"Each of the %d complaints is represented by %d features (TF-IDF score of unigrams and bigrams)\" %(features.shape))\n",
    "N = 3\n",
    "for artist_id, artist in enumerate(class_names):\n",
    "  y_bin = (balanced_df['encoded_label'] == artist_id).astype(int)\n",
    "\n",
    "  # calc chi2 scores\n",
    "  chi2_scores, p_vals = chi2(features, y_bin)\n",
    "\n",
    "  sorted_idx = np.argsort(chi2_scores)\n",
    "\n",
    "  unigrams_idx = [i for i in sorted_idx if len(feature_names[i].split()) == 1]\n",
    "  bigrams_idx  = [i for i in sorted_idx if len(feature_names[i].split()) == 2]\n",
    "\n",
    "  top_unigrams = feature_names[unigrams_idx[-N:]]\n",
    "  top_bigrams  = feature_names[bigrams_idx[-N:]]\n",
    "\n",
    "  print(f\"\\n=== Top {N} for {artist} ===\")\n",
    "  print(\"Unigrams:\", \", \".join(top_unigrams))\n",
    "  print(\"Bigrams: \", \", \".join(top_bigrams))\n"
   ]
  },
  {
   "cell_type": "code",
   "execution_count": null,
   "metadata": {},
   "outputs": [],
   "source": [
    "from sklearn.linear_model import LogisticRegression\n",
    "from sklearn.ensemble import RandomForestClassifier\n",
    "from sklearn.svm import SVC\n",
    "from sklearn.naive_bayes import MultinomialNB\n",
    "from sklearn.metrics import accuracy_score, classification_report, confusion_matrix, RocCurveDisplay\n",
    "from sklearn.preprocessing import label_binarize\n",
    "from sklearn.multiclass import OneVsRestClassifier\n",
    "from sklearn.metrics import roc_curve, auc\n",
    "from sklearn.preprocessing import LabelEncoder\n",
    "from sklearn.pipeline import Pipeline, FunctionTransformer\n",
    "import matplotlib.pyplot as plt\n",
    "import seaborn as sns\n",
    "\n",
    "X,y=balanced_df['clean_lyric'],balanced_df['encoded_label']\n",
    "\n",
    "X_train, X_test, y_train, y_test = train_test_split(\n",
    "    X, y, stratify=y, test_size=0.2, random_state=42\n",
    ")\n",
    "tfidf.fit(X_train)\n",
    "\n",
    "X_train_vec = tfidf.transform(X_train)\n",
    "X_test_vec = tfidf.transform(X_test)\n",
    "\n",
    "models = {\n",
    "    \"LogisticRegression\": LogisticRegression(max_iter=1000, class_weight='balanced'),\n",
    "    \"SVM\":                SVC(kernel='linear', probability=True, class_weight='balanced'),\n",
    "    \"RandomForest\":       RandomForestClassifier(n_estimators=100, class_weight='balanced'),\n",
    "    \"MultinomialNB\":      MultinomialNB()\n",
    "}"
   ]
  },
  {
   "cell_type": "code",
   "execution_count": 105,
   "metadata": {},
   "outputs": [
    {
     "name": "stdout",
     "output_type": "stream",
     "text": [
      "LogisticRegression CV F1‑macro: 0.945 ± 0.014\n",
      "SVM              CV F1‑macro: 0.938 ± 0.014\n",
      "RandomForest     CV F1‑macro: 0.932 ± 0.028\n",
      "MultinomialNB    CV F1‑macro: 0.912 ± 0.030\n",
      "\n",
      "== LogisticRegression on Hold‑Out ==\n",
      "Accuracy: 0.9577039274924471\n",
      "              precision    recall  f1-score   support\n",
      "\n",
      "ArianaGrande       0.97      0.99      0.98        78\n",
      "     Beyonce       0.93      0.96      0.94        77\n",
      "     Rihanna       0.97      0.90      0.94        81\n",
      " TaylorSwift       0.96      0.98      0.97        95\n",
      "\n",
      "    accuracy                           0.96       331\n",
      "   macro avg       0.96      0.96      0.96       331\n",
      "weighted avg       0.96      0.96      0.96       331\n",
      "\n",
      "\n",
      "== SVM on Hold‑Out ==\n",
      "Accuracy: 0.9607250755287009\n",
      "              precision    recall  f1-score   support\n",
      "\n",
      "ArianaGrande       0.97      0.99      0.98        78\n",
      "     Beyonce       0.95      0.96      0.95        77\n",
      "     Rihanna       0.96      0.91      0.94        81\n",
      " TaylorSwift       0.96      0.98      0.97        95\n",
      "\n",
      "    accuracy                           0.96       331\n",
      "   macro avg       0.96      0.96      0.96       331\n",
      "weighted avg       0.96      0.96      0.96       331\n",
      "\n",
      "\n",
      "== RandomForest on Hold‑Out ==\n",
      "Accuracy: 0.9516616314199395\n",
      "              precision    recall  f1-score   support\n",
      "\n",
      "ArianaGrande       0.96      0.96      0.96        78\n",
      "     Beyonce       0.99      0.95      0.97        77\n",
      "     Rihanna       1.00      0.90      0.95        81\n",
      " TaylorSwift       0.89      0.99      0.94        95\n",
      "\n",
      "    accuracy                           0.95       331\n",
      "   macro avg       0.96      0.95      0.95       331\n",
      "weighted avg       0.96      0.95      0.95       331\n",
      "\n",
      "\n",
      "== MultinomialNB on Hold‑Out ==\n",
      "Accuracy: 0.9274924471299094\n",
      "              precision    recall  f1-score   support\n",
      "\n",
      "ArianaGrande       0.97      0.92      0.95        78\n",
      "     Beyonce       0.94      0.94      0.94        77\n",
      "     Rihanna       1.00      0.84      0.91        81\n",
      " TaylorSwift       0.85      1.00      0.92        95\n",
      "\n",
      "    accuracy                           0.93       331\n",
      "   macro avg       0.94      0.92      0.93       331\n",
      "weighted avg       0.93      0.93      0.93       331\n",
      "\n"
     ]
    }
   ],
   "source": [
    "\n",
    "\n",
    "\n",
    "cleaner = FunctionTransformer(lambda texts: [clean_text(t) for t in texts], validate=False)\n",
    "pipelines = {}\n",
    "for name, clf in models.items():\n",
    "    pipelines[name] = Pipeline([\n",
    "        (\"clean\", cleaner),\n",
    "        (\"tfidf\", tfidf),\n",
    "        (\"clf\",   clf),\n",
    "    ])\n",
    "\n",
    "#cross-val eval\n",
    "for name, pipe in pipelines.items():\n",
    "    scores = cross_val_score(pipe, X_train, y_train, cv=5, scoring=\"f1_macro\", n_jobs=-1) #use f1_macro instead of accuracy because classes imbalanced\n",
    "    print(f\"{name:16s} CV F1‑macro: {scores.mean():.3f} ± {scores.std():.3f}\")\n",
    "\n",
    "#fit on train split & print hold‑out\n",
    "for name, pipe in pipelines.items():\n",
    "    pipe.fit(X_train, y_train)\n",
    "    y_pred = pipe.predict(X_test)\n",
    "    print(f\"\\n== {name} on Hold‑Out ==\")\n",
    "    print(\"Accuracy:\", accuracy_score(y_test, y_pred))\n",
    "    print(classification_report(y_test, y_pred, target_names=le.classes_))\n"
   ]
  },
  {
   "cell_type": "code",
   "execution_count": 108,
   "metadata": {},
   "outputs": [
    {
     "name": "stdout",
     "output_type": "stream",
     "text": [
      "\n",
      "== LogisticRegression Confusion Matrix ==\n"
     ]
    },
    {
     "data": {
      "image/png": "[encoded data removed]",
      "text/plain": [
       "<Figure size 720x504 with 2 Axes>"
      ]
     },
     "metadata": {
      "needs_background": "light"
     },
     "output_type": "display_data"
    },
    {
     "name": "stdout",
     "output_type": "stream",
     "text": [
      "\n",
      "== SVM Confusion Matrix ==\n"
     ]
    },
    {
     "data": {
      "image/png": "[encoded data removed]",
      "text/plain": [
       "<Figure size 720x504 with 2 Axes>"
      ]
     },
     "metadata": {
      "needs_background": "light"
     },
     "output_type": "display_data"
    },
    {
     "name": "stdout",
     "output_type": "stream",
     "text": [
      "\n",
      "== RandomForest Confusion Matrix ==\n"
     ]
    },
    {
     "data": {
      "image/png": "[encoded data removed]",
      "text/plain": [
       "<Figure size 720x504 with 2 Axes>"
      ]
     },
     "metadata": {
      "needs_background": "light"
     },
     "output_type": "display_data"
    },
    {
     "name": "stdout",
     "output_type": "stream",
     "text": [
      "\n",
      "== MultinomialNB Confusion Matrix ==\n"
     ]
    },
    {
     "data": {
      "image/png": "[encoded data removed]",
      "text/plain": [
       "<Figure size 720x504 with 2 Axes>"
      ]
     },
     "metadata": {
      "needs_background": "light"
     },
     "output_type": "display_data"
    },
    {
     "name": "stdout",
     "output_type": "stream",
     "text": [
      "\n",
      "== ROC Comparison Curve ==\n"
     ]
    },
    {
     "data": {
      "image/png": "[encoded data removed]",
      "text/plain": [
       "<Figure size 576x432 with 1 Axes>"
      ]
     },
     "metadata": {
      "needs_background": "light"
     },
     "output_type": "display_data"
    }
   ],
   "source": [
    "y_train_bin = label_binarize(y_train, classes=range(len(class_names)))\n",
    "y_test_bin = label_binarize(y_test, classes=range(len(class_names)))\n",
    "# Create shared ROC plot\n",
    "fitted = {}\n",
    "for name, base in models.items():\n",
    "    clf = OneVsRestClassifier(base)\n",
    "    clf.fit(X_train_vec, y_train_bin)\n",
    "    fitted[name] = clf\n",
    "\n",
    "# 6) Confusion matrix (uses y_te and the argmax of predicted probs)\n",
    "for name, clf in fitted.items():\n",
    "    # predict class indices\n",
    "    y_score = clf.predict_proba(X_test_vec)\n",
    "    y_pred  = np.argmax(y_score, axis=1)\n",
    "\n",
    "    plt.figure(figsize=(10, 7))\n",
    "    print(f\"\\n== {name} Confusion Matrix ==\")\n",
    "\n",
    "    cm = confusion_matrix(y_test, y_pred)\n",
    "    sns.heatmap(cm, annot=True, fmt=\"d\", xticklabels=le.classes_, yticklabels=le.classes_, cmap=\"Blues\")\n",
    "    plt.title(name); plt.show()\n",
    "plt.figure(figsize=(8,6))\n",
    "\n",
    "print(f\"\\n== ROC Comparison Curve ==\")\n",
    "for name, clf in fitted.items():\n",
    "    y_score = clf.predict_proba(X_test_vec)\n",
    "    fpr, tpr, _ = roc_curve(y_test_bin.ravel(), y_score.ravel())\n",
    "    roc_auc = auc(fpr, tpr)\n",
    "    plt.plot(fpr, tpr, label=f\"{name} (AUC={roc_auc:.3f})\")\n",
    "\n",
    "plt.plot([0,1], [0,1], 'k--')\n",
    "plt.xlabel(\"False Positive Rate\")\n",
    "plt.ylabel(\"True Positive Rate\")\n",
    "plt.title(\"Micro‑Average ROC\")\n",
    "plt.legend(loc=\"lower right\")\n",
    "plt.show()\n"
   ]
  },
  {
   "cell_type": "code",
   "execution_count": 86,
   "metadata": {},
   "outputs": [],
   "source": [
    "pipe=pipelines[\"SVM\"]"
   ]
  },
  {
   "cell_type": "code",
   "execution_count": 94,
   "metadata": {},
   "outputs": [
    {
     "name": "stdout",
     "output_type": "stream",
     "text": [
      "Predicted artist: TaylorSwift\n",
      "Predicted artist: Beyonce\n",
      "Predicted artist: Rihanna\n",
      "Predicted artist: ArianaGrande\n"
     ]
    }
   ],
   "source": [
    "new_lyrics = [\"\"\"Want is the cigarette smoke on a jacket\n",
    "You wore to the wrong part of town\n",
    "Desire is the sound of the whiskey\n",
    "Telling me you miss me, can you come around?\n",
    "Passion is a passing thing, it's\n",
    "Accidental chemistry (Ah-ah-ah-ah)\n",
    "Lust is a liar, a short-lived fire\n",
    "It ain't what you and I are at all\n",
    "Oh, it's a need, it's a need\n",
    "I would go anywhere that you lead\n",
    "I am hopeless, breathless, burning slow\n",
    "Touch me, hold me, tell me, \"I won't let you go\"\n",
    "I won't leave, it's a need\n",
    "Danger is a thousand prickles on my neck\n",
    "That tell me to run or to freeze\n",
    "Fear is the nightmare I had, you were with someone else\n",
    "You forgot about me\n",
    "Passion is a passing thing, it's\n",
    "Accidental chemistry (Ah-ah-ah-ah)\n",
    "Caught up in a feelin', it can be deceivin'\n",
    "This is like breathing for me (Ah)\n",
    "Oh, it's a need, it's a need\n",
    "I would go anywhere that you lead\n",
    "I am hopeless, breathless, burning slow\n",
    "Touch me, hold me, tell me, \"I won't let you go\"\n",
    "I won't leave, it's a need\n",
    "Baby, it's always a new kiss every time we do this, the truth is (Ah-ah-ah-ah)\n",
    "It's essential to me that you love me more than wishing, longing\n",
    "Oh, it's a need (It's a need), it's a need (Ah-ah, ah-ah)\n",
    "I would go (I would go) anywhere (Anywhere) that you lead (Oh, oh)\n",
    "I am hopeless, breathless, burning slow (Burning slow)\n",
    "Touch me, hold me, tell me, \"I won't let you go\"\n",
    "I won't leave (I won't leave), it's a need (Oh)\"\"\",\"\"\"Baby, you're the only man that I want\n",
    "And baby, you're the only man that I love\"\"\",\"\"\"I rest my hand across your lips\n",
    "Feel your breath by my fingertips\n",
    "No longer can I alay what is right\n",
    "But this love, it won't give up without a fight\"\"\",\"\"\"i didn't think you'd leave my life, i bet that day you know didn't even think about it\"\"\"]\n",
    "for lyric in new_lyrics:\n",
    "    artist_id = pipe.predict([lyric])[0]\n",
    "    artist    = le.inverse_transform([artist_id])[0]\n",
    "    print(\"Predicted artist:\", artist)"
   ]
  }
 ],
 "metadata": {
  "kernelspec": {
   "display_name": "base",
   "language": "python",
   "name": "python3"
  },
  "language_info": {
   "codemirror_mode": {
    "name": "ipython",
    "version": 3
   },
   "file_extension": ".py",
   "mimetype": "text/x-python",
   "name": "python",
   "nbconvert_exporter": "python",
   "pygments_lexer": "ipython3",
   "version": "3.9.12"
  }
 },
 "nbformat": 4,
 "nbformat_minor": 2
}
